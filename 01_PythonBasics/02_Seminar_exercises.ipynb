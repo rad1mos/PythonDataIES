{
 "cells": [
  {
   "cell_type": "code",
   "execution_count": 20,
   "metadata": {},
   "outputs": [
    {
     "name": "stdout",
     "output_type": "stream",
     "text": [
      "John, you will turn 100 years old in the year 2102\n"
     ]
    }
   ],
   "source": [
    "from datetime import date\n",
    "current_year = date.today().year\n",
    "name = input(\"What is your name?\")\n",
    "age = input(\"What is your age?\")\n",
    "print(f\"{name}, you will turn 100 years old in the year {100-int(age)+int(current_year)}.\")"
   ]
  },
  {
   "cell_type": "code",
   "execution_count": 2,
   "metadata": {},
   "outputs": [
    {
     "name": "stdout",
     "output_type": "stream",
     "text": [
      " 10 x 1 = 10\n",
      " 10 x 2 = 20\n",
      " 10 x 3 = 30\n",
      " 10 x 4 = 40\n",
      " 10 x 5 = 50\n",
      " 10 x 6 = 60\n",
      " 10 x 7 = 70\n",
      " 10 x 8 = 80\n",
      " 10 x 9 = 90\n",
      " 10 x 10 = 100\n"
     ]
    }
   ],
   "source": [
    "for i in range(1, 11):\n",
    "    print(f\" {10} x {i} = {10*i}\")"
   ]
  },
  {
   "cell_type": "code",
   "execution_count": 3,
   "metadata": {},
   "outputs": [
    {
     "name": "stdout",
     "output_type": "stream",
     "text": [
      "{'Adam': 1, 'Bořek': 2, 'Cecil': 3, 'Dušan': 4}\n"
     ]
    }
   ],
   "source": [
    "a = {\"Adam\":1, \"Bořek\":2}\n",
    "b = {\"Cecil\":3, \"Dušan\":4}\n",
    "c = {**a, **b}\n",
    "a.update(b)\n",
    "print(c)"
   ]
  },
  {
   "cell_type": "code",
   "execution_count": 5,
   "metadata": {},
   "outputs": [
    {
     "name": "stdout",
     "output_type": "stream",
     "text": [
      "Your income tax is 18000.0.\n"
     ]
    }
   ],
   "source": [
    "income = input(\"What is your income?\")\n",
    "a = 5000\n",
    "b = 15000\n",
    "if int(income) < a:\n",
    "    print(f\"Your income tax is {0}.\")\n",
    "elif a < int(income) < b:\n",
    "    print(f\"Your income tax is {int(income) * 0.1}.\")\n",
    "elif int(income) > b:\n",
    "    print(f\"Your income tax is {int(income) * 0.2}.\")"
   ]
  },
  {
   "cell_type": "code",
   "execution_count": 27,
   "metadata": {},
   "outputs": [
    {
     "name": "stdout",
     "output_type": "stream",
     "text": [
      "{1: 1, 2: 4, 3: 9, 4: 16, 5: 25}\n"
     ]
    }
   ],
   "source": [
    "numbers = [1,2,3,4,5]\n",
    "keys = [1,4,9,16,25]\n",
    "numbers_dictionary = dict(zip(numbers, keys))\n",
    "print(numbers_dictionary)\n",
    "\n",
    "\n"
   ]
  },
  {
   "cell_type": "code",
   "execution_count": 40,
   "metadata": {},
   "outputs": [
    {
     "ename": "TypeError",
     "evalue": "Random.choice() takes 2 positional arguments but 3 were given",
     "output_type": "error",
     "traceback": [
      "\u001b[0;31m---------------------------------------------------------------------------\u001b[0m",
      "\u001b[0;31mTypeError\u001b[0m                                 Traceback (most recent call last)",
      "Cell \u001b[0;32mIn[40], line 4\u001b[0m\n\u001b[1;32m      1\u001b[0m \u001b[39mimport\u001b[39;00m \u001b[39mstring\u001b[39;00m\n\u001b[1;32m      2\u001b[0m \u001b[39mimport\u001b[39;00m \u001b[39mrandom\u001b[39;00m\n\u001b[0;32m----> 4\u001b[0m res \u001b[39m=\u001b[39m \u001b[39m'\u001b[39m\u001b[39m'\u001b[39m\u001b[39m.\u001b[39mjoin(random\u001b[39m.\u001b[39;49mchoice(string\u001b[39m.\u001b[39;49mascii_letters, \u001b[39mrange\u001b[39;49m(\u001b[39m3\u001b[39;49m,\u001b[39m10\u001b[39;49m)))\n\u001b[1;32m      6\u001b[0m \u001b[39mprint\u001b[39m(res)\n",
      "\u001b[0;31mTypeError\u001b[0m: Random.choice() takes 2 positional arguments but 3 were given"
     ]
    }
   ],
   "source": [
    "import string\n",
    "import random\n",
    " \n",
    "res = ''.join(random.choice(string.ascii_letters, range(3,10)))\n",
    "\n",
    "print(res)\n",
    "\n"
   ]
  }
 ],
 "metadata": {
  "kernelspec": {
   "display_name": "Python 3",
   "language": "python",
   "name": "python3"
  },
  "language_info": {
   "codemirror_mode": {
    "name": "ipython",
    "version": 3
   },
   "file_extension": ".py",
   "mimetype": "text/x-python",
   "name": "python",
   "nbconvert_exporter": "python",
   "pygments_lexer": "ipython3",
   "version": "3.11.2"
  },
  "orig_nbformat": 4,
  "vscode": {
   "interpreter": {
    "hash": "aee8b7b246df8f9039afb4144a1f6fd8d2ca17a180786b69acc140d282b71a49"
   }
  }
 },
 "nbformat": 4,
 "nbformat_minor": 2
}
