{
 "cells": [
  {
   "cell_type": "code",
   "execution_count": 1,
   "id": "492eb907-b454-403f-914a-281a61751e07",
   "metadata": {},
   "outputs": [],
   "source": [
    "import requests\n",
    "import pandas as pd\n",
    "import time"
   ]
  },
  {
   "cell_type": "markdown",
   "id": "9b9babd9-e6ad-49bd-9e5e-c479363d305b",
   "metadata": {
    "tags": []
   },
   "source": [
    "# Seminar - APIs and real-life coding"
   ]
  },
  {
   "cell_type": "markdown",
   "id": "4d7941ab-1155-4c89-8095-94edf11f889d",
   "metadata": {
    "tags": []
   },
   "source": [
    "## Task 1: Requesting API\n",
    "### 1a. Create a function requesting data from sreality\n",
    "\n",
    "```python\n",
    "base_url = 'https://www.sreality.cz/api/cs/v2/estates?category_main_cb=1&category_type_cb=1&locality_region_id=10&per_page60&page={}'.format(i)\n",
    "\n",
    "r = requests.get(base_url)\n",
    "d = r.json()\n",
    "```\n",
    "\n",
    "* function should parametrize: \n",
    "    * `category_main_cb` - `{'flat':1, 'house':2, 'land':3 }`\n",
    "    * `category_type_cb` - `{'sell':1,'rent':2}`\n",
    "    * `locality_region_id` - `{'Praha':10,'Brno':14}`\n",
    "    * `page` parameter\n",
    "* use string inputs for `category_main_cb` and `category_type_cb`\n",
    "* test the validity of inputs\n",
    "* include try/except clause to handle errors\n",
    "* function should return JSON data in python types\n",
    "* do not forget to sleep each request at least 0.5s"
   ]
  },
  {
   "cell_type": "code",
   "execution_count": null,
   "id": "55cca328-f8c4-4fba-a0b3-6d20c990d712",
   "metadata": {},
   "outputs": [],
   "source": []
  },
  {
   "cell_type": "markdown",
   "id": "8b718701-e4a4-4fe4-bf34-d03913765b2a",
   "metadata": {},
   "source": [
    "### 1b. Create a function converting sreality json data into pandas dataframe"
   ]
  },
  {
   "cell_type": "code",
   "execution_count": null,
   "id": "dac6b12a-944b-4e42-9c9e-9b6b6b0de1a3",
   "metadata": {},
   "outputs": [],
   "source": []
  },
  {
   "cell_type": "markdown",
   "id": "fc2cde54-c6c3-4baf-9e4c-b740d8eb4dbd",
   "metadata": {},
   "source": [
    "### 1c. link function `1b` into function `1a`"
   ]
  },
  {
   "cell_type": "code",
   "execution_count": null,
   "id": "e8da8611-df45-4f30-87d6-8059f61f810d",
   "metadata": {},
   "outputs": [],
   "source": []
  },
  {
   "cell_type": "markdown",
   "id": "4ebab853-b6f2-4335-b13a-6c3cbba1951b",
   "metadata": {},
   "source": [
    "### 1c. Combining multiple requests into single df\n",
    "\n",
    "* Function should parametrize:\n",
    "    * `start_page` and `end_page`\n",
    "    * request parameters\n",
    "* construct a list of individual request dfs\n",
    "* then feed it into `pd.concat` function"
   ]
  },
  {
   "cell_type": "code",
   "execution_count": null,
   "id": "284687ef-aba6-4bbf-b7bf-c42dafda4cb4",
   "metadata": {},
   "outputs": [],
   "source": []
  },
  {
   "cell_type": "markdown",
   "id": "bdde40e7-f68e-4859-878e-772c112f7355",
   "metadata": {},
   "source": [
    "## Task 2: Cleaning data\n",
    "\n",
    "### 2a. Filter columns\n",
    "* filter only columns: `['locality', 'price', 'name', 'gps','hash_id','labelsAll','exclusively_at_rk']`\n",
    "* use `.copy()` to avoid `SettingWithCopyWarning` later\n"
   ]
  },
  {
   "cell_type": "code",
   "execution_count": null,
   "id": "34d14f44-48f4-4bcd-bac0-ddf282242464",
   "metadata": {},
   "outputs": [],
   "source": []
  },
  {
   "cell_type": "markdown",
   "id": "80deec04-4959-4d9a-8a3a-7cf616e8558a",
   "metadata": {
    "tags": []
   },
   "source": [
    "### 2b: GPS\n",
    "* Convert dictionary in `gps` column into two columns - `lat` and `lon`\n",
    "* use apply function on gps column\n",
    "* Note apply can return multiple columns"
   ]
  },
  {
   "cell_type": "code",
   "execution_count": null,
   "id": "ef76e8c3-e06e-4cbb-8e66-e8c9e2133a0f",
   "metadata": {},
   "outputs": [],
   "source": []
  },
  {
   "cell_type": "markdown",
   "id": "36c22408-c327-4c17-b1b4-de54f63f0627",
   "metadata": {},
   "source": [
    "### 2b. Get flat type from name\n",
    "* Name is always represented by string `Prodej bytu [type of flat] [Area] m^2`\n",
    "* try picking third word in string\n",
    "* check meaningfulness using `.value_counts()`"
   ]
  },
  {
   "cell_type": "code",
   "execution_count": null,
   "id": "150a551c-f321-408d-b8bc-dee6c2fb2adf",
   "metadata": {},
   "outputs": [],
   "source": []
  },
  {
   "cell_type": "markdown",
   "id": "5e233b14-db62-41f8-be82-45c861d62e3e",
   "metadata": {},
   "source": [
    "### 2c. Get area from name\n",
    "* Naive: select the word before last word\n",
    "* Then try navigating using the index of `'m²'`\n",
    "* if this also fail, then you will need to use regex"
   ]
  },
  {
   "cell_type": "code",
   "execution_count": null,
   "id": "94a6f0cf-2c35-42fa-a518-d1249487da1e",
   "metadata": {},
   "outputs": [],
   "source": []
  },
  {
   "cell_type": "markdown",
   "id": "ce71f809-7a5a-487e-882a-6aa9c7124727",
   "metadata": {},
   "source": [
    "## Task 3 (Homework): Convert column`labelsAll` into boolean variables\n",
    "\n",
    "### Task 3a. Get all possible label names\n",
    "* deal with nested-list structure\n",
    "* Hint: try sum the whole column to get a nested list of lists.\n",
    "* Then flatten the nested list (2D to 1D)\n",
    "* Finally keep only unique elements\n"
   ]
  },
  {
   "cell_type": "code",
   "execution_count": null,
   "id": "6e1c007a-ac7b-466d-8dd6-9ee2d610f915",
   "metadata": {},
   "outputs": [],
   "source": []
  },
  {
   "cell_type": "markdown",
   "id": "19187c7e-58df-41bd-8d73-a59213476ad4",
   "metadata": {},
   "source": [
    "### 4b. Test existence of label `cellar` for offers\n",
    "* again deal with nested list of list structure\n",
    "* write generic function `test_existence_of_label(offer_labels,label)`"
   ]
  },
  {
   "cell_type": "code",
   "execution_count": null,
   "id": "483af49e-98d0-4e2e-bcb2-dd798d096c41",
   "metadata": {},
   "outputs": [],
   "source": []
  },
  {
   "cell_type": "markdown",
   "id": "24e72a4b-82c6-484b-bfb1-c15c3fa1662c",
   "metadata": {},
   "source": [
    "### 4c. Test existence of all possible labels\n",
    "* use apply returning series with all labels"
   ]
  },
  {
   "cell_type": "code",
   "execution_count": null,
   "id": "a633c468-e096-46bf-a51e-0f30f11cca26",
   "metadata": {
    "tags": []
   },
   "outputs": [],
   "source": []
  },
  {
   "cell_type": "code",
   "execution_count": null,
   "id": "8165a5a4-a52c-453a-b3e9-39d868fe5501",
   "metadata": {},
   "outputs": [],
   "source": []
  }
 ],
 "metadata": {
  "kernelspec": {
   "display_name": "Python 3.8 - AzureML",
   "language": "python",
   "name": "python38-azureml"
  },
  "language_info": {
   "codemirror_mode": {
    "name": "ipython",
    "version": 3
   },
   "file_extension": ".py",
   "mimetype": "text/x-python",
   "name": "python",
   "nbconvert_exporter": "python",
   "pygments_lexer": "ipython3",
   "version": "3.8.10"
  },
  "microsoft": {
   "ms_spell_check": {
    "ms_spell_check_language": "en"
   }
  },
  "nteract": {
   "version": "nteract-front-end@1.0.0"
  }
 },
 "nbformat": 4,
 "nbformat_minor": 5
}
